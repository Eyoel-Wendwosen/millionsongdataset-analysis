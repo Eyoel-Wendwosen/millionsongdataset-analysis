{
 "cells": [
  {
   "cell_type": "code",
   "execution_count": 1,
   "id": "624f8a6f",
   "metadata": {},
   "outputs": [],
   "source": [
    "import numpy as np\n",
    "import h5py\n",
    "import pandas as pd\n",
    "import os\n",
    "import fnmatch"
   ]
  },
  {
   "cell_type": "code",
   "execution_count": 4,
   "id": "598b4f0b",
   "metadata": {},
   "outputs": [],
   "source": [
    "file = open(\"./MDS-min.csv\", \"w\")\n",
    "\n",
    "filename = \"./MillionSongSubset/A/A/A/TRAAAAW128F429D538.h5\"\n",
    "data = pd.HDFStore(filename, mode='r')\n",
    "df_1 = data.get('/analysis/songs')\n",
    "df_2 = data.get('/metadata/songs')\n",
    "df_3 = data.get('/musicbrainz/songs')\n",
    "df_final = pd.concat([df_1,df_2,df_3], axis=1)\n",
    "df_final.to_csv(file,mode='w', header=True)\n",
    "data.close()\n",
    "file.close()\n"
   ]
  },
  {
   "cell_type": "code",
   "execution_count": 28,
   "id": "3ff6bf15",
   "metadata": {},
   "outputs": [
    {
     "data": {
      "text/html": [
       "<div>\n",
       "<style scoped>\n",
       "    .dataframe tbody tr th:only-of-type {\n",
       "        vertical-align: middle;\n",
       "    }\n",
       "\n",
       "    .dataframe tbody tr th {\n",
       "        vertical-align: top;\n",
       "    }\n",
       "\n",
       "    .dataframe thead th {\n",
       "        text-align: right;\n",
       "    }\n",
       "</style>\n",
       "<table border=\"1\" class=\"dataframe\">\n",
       "  <thead>\n",
       "    <tr style=\"text-align: right;\">\n",
       "      <th></th>\n",
       "      <th>analysis_sample_rate</th>\n",
       "      <th>audio_md5</th>\n",
       "      <th>danceability</th>\n",
       "      <th>duration</th>\n",
       "      <th>end_of_fade_in</th>\n",
       "      <th>energy</th>\n",
       "      <th>idx_bars_confidence</th>\n",
       "      <th>idx_bars_start</th>\n",
       "      <th>idx_beats_confidence</th>\n",
       "      <th>idx_beats_start</th>\n",
       "      <th>...</th>\n",
       "      <th>idx_artist_terms</th>\n",
       "      <th>idx_similar_artists</th>\n",
       "      <th>release</th>\n",
       "      <th>release_7digitalid</th>\n",
       "      <th>song_hotttnesss</th>\n",
       "      <th>song_id</th>\n",
       "      <th>title</th>\n",
       "      <th>track_7digitalid</th>\n",
       "      <th>idx_artist_mbtags</th>\n",
       "      <th>year</th>\n",
       "    </tr>\n",
       "  </thead>\n",
       "  <tbody>\n",
       "    <tr>\n",
       "      <th>0</th>\n",
       "      <td>22050</td>\n",
       "      <td>a222795e07cd65b7a530f1346f520649</td>\n",
       "      <td>0.0</td>\n",
       "      <td>218.93179</td>\n",
       "      <td>0.247</td>\n",
       "      <td>0.0</td>\n",
       "      <td>0</td>\n",
       "      <td>0</td>\n",
       "      <td>0</td>\n",
       "      <td>0</td>\n",
       "      <td>...</td>\n",
       "      <td>0</td>\n",
       "      <td>0</td>\n",
       "      <td>Fear Itself</td>\n",
       "      <td>300848</td>\n",
       "      <td>0.60212</td>\n",
       "      <td>SOMZWCG12A8C13C480</td>\n",
       "      <td>I Didn't Mean To</td>\n",
       "      <td>3401791</td>\n",
       "      <td>0</td>\n",
       "      <td>0</td>\n",
       "    </tr>\n",
       "  </tbody>\n",
       "</table>\n",
       "<p>1 rows × 53 columns</p>\n",
       "</div>"
      ],
      "text/plain": [
       "   analysis_sample_rate                         audio_md5  danceability  \\\n",
       "0                 22050  a222795e07cd65b7a530f1346f520649           0.0   \n",
       "\n",
       "    duration  end_of_fade_in  energy  idx_bars_confidence  idx_bars_start  \\\n",
       "0  218.93179           0.247     0.0                    0               0   \n",
       "\n",
       "   idx_beats_confidence  idx_beats_start  ...  idx_artist_terms  \\\n",
       "0                     0                0  ...                 0   \n",
       "\n",
       "   idx_similar_artists      release  release_7digitalid  song_hotttnesss  \\\n",
       "0                    0  Fear Itself              300848          0.60212   \n",
       "\n",
       "              song_id             title  track_7digitalid  idx_artist_mbtags  \\\n",
       "0  SOMZWCG12A8C13C480  I Didn't Mean To           3401791                  0   \n",
       "\n",
       "   year  \n",
       "0     0  \n",
       "\n",
       "[1 rows x 53 columns]"
      ]
     },
     "execution_count": 28,
     "metadata": {},
     "output_type": "execute_result"
    }
   ],
   "source": [
    "df_final.head()"
   ]
  },
  {
   "cell_type": "code",
   "execution_count": 6,
   "id": "39563e8e",
   "metadata": {},
   "outputs": [],
   "source": [
    "# matches = list()\n",
    "f= open(\"./MSD.csv\",\"w\")\n",
    "for root,dirnames,filenames in os.walk('./'):\n",
    "    for filename in fnmatch.filter(filenames, '*.h5'):\n",
    "#         print(os.path.join(root, filename))\n",
    "        hdf = pd.HDFStore(os.path.join(root, filename),mode ='r')\n",
    "        df1 = hdf.get('/analysis/songs/')\n",
    "        df2 = hdf.get('/metadata/songs/')\n",
    "        df3 = hdf.get('/musicbrainz/songs/')\n",
    "        df = pd.concat([df1,df2,df3], axis = 1)\n",
    "        df.to_csv(f,mode='a', header=False)\n",
    "        df_final.append(df, ignore_index=True)\n",
    "        hdf.close()\n",
    "f.close()"
   ]
  },
  {
   "cell_type": "code",
   "execution_count": 30,
   "id": "5f2816d0",
   "metadata": {},
   "outputs": [
    {
     "data": {
      "text/plain": [
       "(1, 53)"
      ]
     },
     "execution_count": 30,
     "metadata": {},
     "output_type": "execute_result"
    }
   ],
   "source": [
    "df_final.to_csv()"
   ]
  },
  {
   "cell_type": "code",
   "execution_count": 3,
   "id": "042a5ca9",
   "metadata": {},
   "outputs": [
    {
     "data": {
      "text/plain": [
       "Index(['analysis_sample_rate', 'audio_md5', 'danceability', 'duration',\n",
       "       'end_of_fade_in', 'energy', 'idx_bars_confidence', 'idx_bars_start',\n",
       "       'idx_beats_confidence', 'idx_beats_start', 'idx_sections_confidence',\n",
       "       'idx_sections_start', 'idx_segments_confidence',\n",
       "       'idx_segments_loudness_max', 'idx_segments_loudness_max_time',\n",
       "       'idx_segments_loudness_start', 'idx_segments_pitches',\n",
       "       'idx_segments_start', 'idx_segments_timbre', 'idx_tatums_confidence',\n",
       "       'idx_tatums_start', 'key', 'key_confidence', 'loudness', 'mode',\n",
       "       'mode_confidence', 'start_of_fade_out', 'tempo', 'time_signature',\n",
       "       'time_signature_confidence', 'track_id', 'analyzer_version',\n",
       "       'artist_7digitalid', 'artist_familiarity', 'artist_hotttnesss',\n",
       "       'artist_id', 'artist_latitude', 'artist_location', 'artist_longitude',\n",
       "       'artist_mbid', 'artist_name', 'artist_playmeid', 'genre',\n",
       "       'idx_artist_terms', 'idx_similar_artists', 'release',\n",
       "       'release_7digitalid', 'song_hotttnesss', 'song_id', 'title',\n",
       "       'track_7digitalid', 'idx_artist_mbtags', 'year'],\n",
       "      dtype='object')"
      ]
     },
     "execution_count": 3,
     "metadata": {},
     "output_type": "execute_result"
    }
   ],
   "source": [
    "df.columns"
   ]
  },
  {
   "cell_type": "code",
   "execution_count": 4,
   "id": "4d3057c4",
   "metadata": {},
   "outputs": [
    {
     "data": {
      "text/plain": [
       "Index(['analysis_sample_rate', 'audio_md5', 'danceability', 'duration',\n",
       "       'end_of_fade_in', 'energy', 'idx_bars_confidence', 'idx_bars_start',\n",
       "       'idx_beats_confidence', 'idx_beats_start', 'idx_sections_confidence',\n",
       "       'idx_sections_start', 'idx_segments_confidence',\n",
       "       'idx_segments_loudness_max', 'idx_segments_loudness_max_time',\n",
       "       'idx_segments_loudness_start', 'idx_segments_pitches',\n",
       "       'idx_segments_start', 'idx_segments_timbre', 'idx_tatums_confidence',\n",
       "       'idx_tatums_start', 'key', 'key_confidence', 'loudness', 'mode',\n",
       "       'mode_confidence', 'start_of_fade_out', 'tempo', 'time_signature',\n",
       "       'time_signature_confidence', 'track_id'],\n",
       "      dtype='object')"
      ]
     },
     "execution_count": 4,
     "metadata": {},
     "output_type": "execute_result"
    }
   ],
   "source": [
    "df1.columns"
   ]
  },
  {
   "cell_type": "code",
   "execution_count": 5,
   "id": "492ec7e1",
   "metadata": {},
   "outputs": [
    {
     "data": {
      "text/plain": [
       "Index(['analyzer_version', 'artist_7digitalid', 'artist_familiarity',\n",
       "       'artist_hotttnesss', 'artist_id', 'artist_latitude', 'artist_location',\n",
       "       'artist_longitude', 'artist_mbid', 'artist_name', 'artist_playmeid',\n",
       "       'genre', 'idx_artist_terms', 'idx_similar_artists', 'release',\n",
       "       'release_7digitalid', 'song_hotttnesss', 'song_id', 'title',\n",
       "       'track_7digitalid'],\n",
       "      dtype='object')"
      ]
     },
     "execution_count": 5,
     "metadata": {},
     "output_type": "execute_result"
    }
   ],
   "source": [
    "df2.columns"
   ]
  },
  {
   "cell_type": "code",
   "execution_count": 6,
   "id": "eac10f67",
   "metadata": {},
   "outputs": [
    {
     "data": {
      "text/plain": [
       "Index(['idx_artist_mbtags', 'year'], dtype='object')"
      ]
     },
     "execution_count": 6,
     "metadata": {},
     "output_type": "execute_result"
    }
   ],
   "source": [
    "df3.columns"
   ]
  },
  {
   "cell_type": "code",
   "execution_count": 12,
   "id": "01c1897b",
   "metadata": {},
   "outputs": [
    {
     "data": {
      "text/plain": [
       "Index([], dtype='object')"
      ]
     },
     "execution_count": 12,
     "metadata": {},
     "output_type": "execute_result"
    }
   ],
   "source": [
    "df_final.columns"
   ]
  },
  {
   "cell_type": "code",
   "execution_count": 21,
   "id": "7473a894",
   "metadata": {},
   "outputs": [
    {
     "data": {
      "text/html": [
       "<div>\n",
       "<style scoped>\n",
       "    .dataframe tbody tr th:only-of-type {\n",
       "        vertical-align: middle;\n",
       "    }\n",
       "\n",
       "    .dataframe tbody tr th {\n",
       "        vertical-align: top;\n",
       "    }\n",
       "\n",
       "    .dataframe thead th {\n",
       "        text-align: right;\n",
       "    }\n",
       "</style>\n",
       "<table border=\"1\" class=\"dataframe\">\n",
       "  <thead>\n",
       "    <tr style=\"text-align: right;\">\n",
       "      <th></th>\n",
       "      <th>analysis_sample_rate</th>\n",
       "      <th>audio_md5</th>\n",
       "      <th>danceability</th>\n",
       "      <th>duration</th>\n",
       "      <th>end_of_fade_in</th>\n",
       "      <th>energy</th>\n",
       "      <th>idx_bars_confidence</th>\n",
       "      <th>idx_bars_start</th>\n",
       "      <th>idx_beats_confidence</th>\n",
       "      <th>idx_beats_start</th>\n",
       "      <th>...</th>\n",
       "      <th>key</th>\n",
       "      <th>key_confidence</th>\n",
       "      <th>loudness</th>\n",
       "      <th>mode</th>\n",
       "      <th>mode_confidence</th>\n",
       "      <th>start_of_fade_out</th>\n",
       "      <th>tempo</th>\n",
       "      <th>time_signature</th>\n",
       "      <th>time_signature_confidence</th>\n",
       "      <th>track_id</th>\n",
       "    </tr>\n",
       "  </thead>\n",
       "  <tbody>\n",
       "    <tr>\n",
       "      <th>0</th>\n",
       "      <td>22050</td>\n",
       "      <td>14f1a57abd454caec1403ecd1da3bf3b</td>\n",
       "      <td>0.0</td>\n",
       "      <td>920.76363</td>\n",
       "      <td>5.416</td>\n",
       "      <td>0.0</td>\n",
       "      <td>0</td>\n",
       "      <td>0</td>\n",
       "      <td>0</td>\n",
       "      <td>0</td>\n",
       "      <td>...</td>\n",
       "      <td>6</td>\n",
       "      <td>0.608</td>\n",
       "      <td>-16.676</td>\n",
       "      <td>0</td>\n",
       "      <td>0.683</td>\n",
       "      <td>854.361</td>\n",
       "      <td>134.028</td>\n",
       "      <td>3</td>\n",
       "      <td>0.345</td>\n",
       "      <td>TRBBWKS128F424E84A</td>\n",
       "    </tr>\n",
       "  </tbody>\n",
       "</table>\n",
       "<p>1 rows × 31 columns</p>\n",
       "</div>"
      ],
      "text/plain": [
       "   analysis_sample_rate                         audio_md5  danceability  \\\n",
       "0                 22050  14f1a57abd454caec1403ecd1da3bf3b           0.0   \n",
       "\n",
       "    duration  end_of_fade_in  energy  idx_bars_confidence  idx_bars_start  \\\n",
       "0  920.76363           5.416     0.0                    0               0   \n",
       "\n",
       "   idx_beats_confidence  idx_beats_start  ...  key  key_confidence  loudness  \\\n",
       "0                     0                0  ...    6           0.608   -16.676   \n",
       "\n",
       "   mode  mode_confidence  start_of_fade_out    tempo  time_signature  \\\n",
       "0     0            0.683            854.361  134.028               3   \n",
       "\n",
       "   time_signature_confidence            track_id  \n",
       "0                      0.345  TRBBWKS128F424E84A  \n",
       "\n",
       "[1 rows x 31 columns]"
      ]
     },
     "execution_count": 21,
     "metadata": {},
     "output_type": "execute_result"
    }
   ],
   "source": [
    "df1.head()"
   ]
  },
  {
   "cell_type": "code",
   "execution_count": 22,
   "id": "a168023c",
   "metadata": {},
   "outputs": [
    {
     "data": {
      "text/html": [
       "<div>\n",
       "<style scoped>\n",
       "    .dataframe tbody tr th:only-of-type {\n",
       "        vertical-align: middle;\n",
       "    }\n",
       "\n",
       "    .dataframe tbody tr th {\n",
       "        vertical-align: top;\n",
       "    }\n",
       "\n",
       "    .dataframe thead th {\n",
       "        text-align: right;\n",
       "    }\n",
       "</style>\n",
       "<table border=\"1\" class=\"dataframe\">\n",
       "  <thead>\n",
       "    <tr style=\"text-align: right;\">\n",
       "      <th></th>\n",
       "      <th>analyzer_version</th>\n",
       "      <th>artist_7digitalid</th>\n",
       "      <th>artist_familiarity</th>\n",
       "      <th>artist_hotttnesss</th>\n",
       "      <th>artist_id</th>\n",
       "      <th>artist_latitude</th>\n",
       "      <th>artist_location</th>\n",
       "      <th>artist_longitude</th>\n",
       "      <th>artist_mbid</th>\n",
       "      <th>artist_name</th>\n",
       "      <th>artist_playmeid</th>\n",
       "      <th>genre</th>\n",
       "      <th>idx_artist_terms</th>\n",
       "      <th>idx_similar_artists</th>\n",
       "      <th>release</th>\n",
       "      <th>release_7digitalid</th>\n",
       "      <th>song_hotttnesss</th>\n",
       "      <th>song_id</th>\n",
       "      <th>title</th>\n",
       "      <th>track_7digitalid</th>\n",
       "    </tr>\n",
       "  </thead>\n",
       "  <tbody>\n",
       "    <tr>\n",
       "      <th>0</th>\n",
       "      <td></td>\n",
       "      <td>68006</td>\n",
       "      <td>0.28422</td>\n",
       "      <td>0.30585</td>\n",
       "      <td>ARQXGWX11F50C49BC7</td>\n",
       "      <td>NaN</td>\n",
       "      <td></td>\n",
       "      <td>NaN</td>\n",
       "      <td>5e814d09-9d00-4e43-9a0d-61c73b4ed380</td>\n",
       "      <td>Vincent Bruley</td>\n",
       "      <td>51224</td>\n",
       "      <td></td>\n",
       "      <td>0</td>\n",
       "      <td>0</td>\n",
       "      <td>Oxygène 5: Le Vent</td>\n",
       "      <td>196895</td>\n",
       "      <td>NaN</td>\n",
       "      <td>SOPNUVB12A8C13627D</td>\n",
       "      <td>Souffle 2</td>\n",
       "      <td>2139729</td>\n",
       "    </tr>\n",
       "  </tbody>\n",
       "</table>\n",
       "</div>"
      ],
      "text/plain": [
       "  analyzer_version  artist_7digitalid  artist_familiarity  artist_hotttnesss  \\\n",
       "0                               68006             0.28422            0.30585   \n",
       "\n",
       "            artist_id  artist_latitude artist_location  artist_longitude  \\\n",
       "0  ARQXGWX11F50C49BC7              NaN                               NaN   \n",
       "\n",
       "                            artist_mbid     artist_name  artist_playmeid  \\\n",
       "0  5e814d09-9d00-4e43-9a0d-61c73b4ed380  Vincent Bruley            51224   \n",
       "\n",
       "  genre  idx_artist_terms  idx_similar_artists             release  \\\n",
       "0                       0                    0  Oxygène 5: Le Vent   \n",
       "\n",
       "   release_7digitalid  song_hotttnesss             song_id      title  \\\n",
       "0              196895              NaN  SOPNUVB12A8C13627D  Souffle 2   \n",
       "\n",
       "   track_7digitalid  \n",
       "0           2139729  "
      ]
     },
     "execution_count": 22,
     "metadata": {},
     "output_type": "execute_result"
    }
   ],
   "source": [
    "df2.head()"
   ]
  },
  {
   "cell_type": "code",
   "execution_count": 23,
   "id": "0ea19e14",
   "metadata": {},
   "outputs": [
    {
     "data": {
      "text/html": [
       "<div>\n",
       "<style scoped>\n",
       "    .dataframe tbody tr th:only-of-type {\n",
       "        vertical-align: middle;\n",
       "    }\n",
       "\n",
       "    .dataframe tbody tr th {\n",
       "        vertical-align: top;\n",
       "    }\n",
       "\n",
       "    .dataframe thead th {\n",
       "        text-align: right;\n",
       "    }\n",
       "</style>\n",
       "<table border=\"1\" class=\"dataframe\">\n",
       "  <thead>\n",
       "    <tr style=\"text-align: right;\">\n",
       "      <th></th>\n",
       "      <th>idx_artist_mbtags</th>\n",
       "      <th>year</th>\n",
       "    </tr>\n",
       "  </thead>\n",
       "  <tbody>\n",
       "    <tr>\n",
       "      <th>0</th>\n",
       "      <td>0</td>\n",
       "      <td>0</td>\n",
       "    </tr>\n",
       "  </tbody>\n",
       "</table>\n",
       "</div>"
      ],
      "text/plain": [
       "   idx_artist_mbtags  year\n",
       "0                  0     0"
      ]
     },
     "execution_count": 23,
     "metadata": {},
     "output_type": "execute_result"
    }
   ],
   "source": [
    "df3.head()"
   ]
  },
  {
   "cell_type": "code",
   "execution_count": 24,
   "id": "54e39045",
   "metadata": {},
   "outputs": [
    {
     "data": {
      "text/plain": [
       "pandas.io.pytables.HDFStore"
      ]
     },
     "execution_count": 24,
     "metadata": {},
     "output_type": "execute_result"
    }
   ],
   "source": [
    "type(hdf)"
   ]
  },
  {
   "cell_type": "code",
   "execution_count": 25,
   "id": "fa46fad4",
   "metadata": {},
   "outputs": [
    {
     "data": {
      "text/plain": [
       "\"<class 'pandas.io.pytables.HDFStore'>\\nFile path: ./MillionSongSubset/B/B/W/TRBBWKS128F424E84A.h5\\nFile is CLOSED\""
      ]
     },
     "execution_count": 25,
     "metadata": {},
     "output_type": "execute_result"
    }
   ],
   "source": [
    "hdf.info()"
   ]
  },
  {
   "cell_type": "code",
   "execution_count": 26,
   "id": "75febb8b",
   "metadata": {},
   "outputs": [
    {
     "data": {
      "text/plain": [
       "Int64Index([0], dtype='int64')"
      ]
     },
     "execution_count": 26,
     "metadata": {},
     "output_type": "execute_result"
    }
   ],
   "source": [
    "df1.index"
   ]
  },
  {
   "cell_type": "code",
   "execution_count": 27,
   "id": "0cab7bf1",
   "metadata": {},
   "outputs": [
    {
     "data": {
      "text/html": [
       "<div>\n",
       "<style scoped>\n",
       "    .dataframe tbody tr th:only-of-type {\n",
       "        vertical-align: middle;\n",
       "    }\n",
       "\n",
       "    .dataframe tbody tr th {\n",
       "        vertical-align: top;\n",
       "    }\n",
       "\n",
       "    .dataframe thead th {\n",
       "        text-align: right;\n",
       "    }\n",
       "</style>\n",
       "<table border=\"1\" class=\"dataframe\">\n",
       "  <thead>\n",
       "    <tr style=\"text-align: right;\">\n",
       "      <th></th>\n",
       "      <th>analysis_sample_rate</th>\n",
       "      <th>audio_md5</th>\n",
       "      <th>danceability</th>\n",
       "      <th>duration</th>\n",
       "      <th>end_of_fade_in</th>\n",
       "      <th>energy</th>\n",
       "      <th>idx_bars_confidence</th>\n",
       "      <th>idx_bars_start</th>\n",
       "      <th>idx_beats_confidence</th>\n",
       "      <th>idx_beats_start</th>\n",
       "      <th>...</th>\n",
       "      <th>key</th>\n",
       "      <th>key_confidence</th>\n",
       "      <th>loudness</th>\n",
       "      <th>mode</th>\n",
       "      <th>mode_confidence</th>\n",
       "      <th>start_of_fade_out</th>\n",
       "      <th>tempo</th>\n",
       "      <th>time_signature</th>\n",
       "      <th>time_signature_confidence</th>\n",
       "      <th>track_id</th>\n",
       "    </tr>\n",
       "  </thead>\n",
       "  <tbody>\n",
       "    <tr>\n",
       "      <th>0</th>\n",
       "      <td>22050</td>\n",
       "      <td>14f1a57abd454caec1403ecd1da3bf3b</td>\n",
       "      <td>0.0</td>\n",
       "      <td>920.76363</td>\n",
       "      <td>5.416</td>\n",
       "      <td>0.0</td>\n",
       "      <td>0</td>\n",
       "      <td>0</td>\n",
       "      <td>0</td>\n",
       "      <td>0</td>\n",
       "      <td>...</td>\n",
       "      <td>6</td>\n",
       "      <td>0.608</td>\n",
       "      <td>-16.676</td>\n",
       "      <td>0</td>\n",
       "      <td>0.683</td>\n",
       "      <td>854.361</td>\n",
       "      <td>134.028</td>\n",
       "      <td>3</td>\n",
       "      <td>0.345</td>\n",
       "      <td>TRBBWKS128F424E84A</td>\n",
       "    </tr>\n",
       "  </tbody>\n",
       "</table>\n",
       "<p>1 rows × 31 columns</p>\n",
       "</div>"
      ],
      "text/plain": [
       "   analysis_sample_rate                         audio_md5  danceability  \\\n",
       "0                 22050  14f1a57abd454caec1403ecd1da3bf3b           0.0   \n",
       "\n",
       "    duration  end_of_fade_in  energy  idx_bars_confidence  idx_bars_start  \\\n",
       "0  920.76363           5.416     0.0                    0               0   \n",
       "\n",
       "   idx_beats_confidence  idx_beats_start  ...  key  key_confidence  loudness  \\\n",
       "0                     0                0  ...    6           0.608   -16.676   \n",
       "\n",
       "   mode  mode_confidence  start_of_fade_out    tempo  time_signature  \\\n",
       "0     0            0.683            854.361  134.028               3   \n",
       "\n",
       "   time_signature_confidence            track_id  \n",
       "0                      0.345  TRBBWKS128F424E84A  \n",
       "\n",
       "[1 rows x 31 columns]"
      ]
     },
     "execution_count": 27,
     "metadata": {},
     "output_type": "execute_result"
    }
   ],
   "source": [
    "df1.loc[:\"index\"]"
   ]
  },
  {
   "cell_type": "code",
   "execution_count": 29,
   "id": "33a71872",
   "metadata": {},
   "outputs": [],
   "source": [
    "filename = \"./MillionSongSubset/A/A/A/TRAAAAW128F429D538.h5\"\n",
    "data = pd.HDFStore(filename, mode='r')"
   ]
  },
  {
   "cell_type": "code",
   "execution_count": 34,
   "id": "8a57a219",
   "metadata": {},
   "outputs": [],
   "source": [
    "d1 = data.get('/analysis/songs/')"
   ]
  },
  {
   "cell_type": "code",
   "execution_count": 36,
   "id": "cc7a7198",
   "metadata": {},
   "outputs": [
    {
     "data": {
      "text/plain": [
       "Int64Index([0], dtype='int64')"
      ]
     },
     "execution_count": 36,
     "metadata": {},
     "output_type": "execute_result"
    }
   ],
   "source": [
    "d1.index"
   ]
  },
  {
   "cell_type": "code",
   "execution_count": 37,
   "id": "1e4d02c2",
   "metadata": {},
   "outputs": [],
   "source": [
    "d2 = data.get('/metadata/songs')\n"
   ]
  },
  {
   "cell_type": "code",
   "execution_count": 40,
   "id": "5ace2131",
   "metadata": {},
   "outputs": [
    {
     "data": {
      "text/html": [
       "<div>\n",
       "<style scoped>\n",
       "    .dataframe tbody tr th:only-of-type {\n",
       "        vertical-align: middle;\n",
       "    }\n",
       "\n",
       "    .dataframe tbody tr th {\n",
       "        vertical-align: top;\n",
       "    }\n",
       "\n",
       "    .dataframe thead th {\n",
       "        text-align: right;\n",
       "    }\n",
       "</style>\n",
       "<table border=\"1\" class=\"dataframe\">\n",
       "  <thead>\n",
       "    <tr style=\"text-align: right;\">\n",
       "      <th></th>\n",
       "      <th>analyzer_version</th>\n",
       "      <th>artist_7digitalid</th>\n",
       "      <th>artist_familiarity</th>\n",
       "      <th>artist_hotttnesss</th>\n",
       "      <th>artist_id</th>\n",
       "      <th>artist_latitude</th>\n",
       "      <th>artist_location</th>\n",
       "      <th>artist_longitude</th>\n",
       "      <th>artist_mbid</th>\n",
       "      <th>artist_name</th>\n",
       "      <th>artist_playmeid</th>\n",
       "      <th>genre</th>\n",
       "      <th>idx_artist_terms</th>\n",
       "      <th>idx_similar_artists</th>\n",
       "      <th>release</th>\n",
       "      <th>release_7digitalid</th>\n",
       "      <th>song_hotttnesss</th>\n",
       "      <th>song_id</th>\n",
       "      <th>title</th>\n",
       "      <th>track_7digitalid</th>\n",
       "    </tr>\n",
       "  </thead>\n",
       "  <tbody>\n",
       "    <tr>\n",
       "      <th>0</th>\n",
       "      <td></td>\n",
       "      <td>165270</td>\n",
       "      <td>0.581794</td>\n",
       "      <td>0.401998</td>\n",
       "      <td>ARD7TVE1187B99BFB1</td>\n",
       "      <td>NaN</td>\n",
       "      <td>California - LA</td>\n",
       "      <td>NaN</td>\n",
       "      <td>e77e51a5-4761-45b3-9847-2051f811e366</td>\n",
       "      <td>Casual</td>\n",
       "      <td>4479</td>\n",
       "      <td></td>\n",
       "      <td>0</td>\n",
       "      <td>0</td>\n",
       "      <td>Fear Itself</td>\n",
       "      <td>300848</td>\n",
       "      <td>0.60212</td>\n",
       "      <td>SOMZWCG12A8C13C480</td>\n",
       "      <td>I Didn't Mean To</td>\n",
       "      <td>3401791</td>\n",
       "    </tr>\n",
       "  </tbody>\n",
       "</table>\n",
       "</div>"
      ],
      "text/plain": [
       "  analyzer_version  artist_7digitalid  artist_familiarity  artist_hotttnesss  \\\n",
       "0                              165270            0.581794           0.401998   \n",
       "\n",
       "            artist_id  artist_latitude  artist_location  artist_longitude  \\\n",
       "0  ARD7TVE1187B99BFB1              NaN  California - LA               NaN   \n",
       "\n",
       "                            artist_mbid artist_name  artist_playmeid genre  \\\n",
       "0  e77e51a5-4761-45b3-9847-2051f811e366      Casual             4479         \n",
       "\n",
       "   idx_artist_terms  idx_similar_artists      release  release_7digitalid  \\\n",
       "0                 0                    0  Fear Itself              300848   \n",
       "\n",
       "   song_hotttnesss             song_id             title  track_7digitalid  \n",
       "0          0.60212  SOMZWCG12A8C13C480  I Didn't Mean To           3401791  "
      ]
     },
     "execution_count": 40,
     "metadata": {},
     "output_type": "execute_result"
    }
   ],
   "source": [
    "d2"
   ]
  },
  {
   "cell_type": "code",
   "execution_count": 41,
   "id": "31d64423",
   "metadata": {},
   "outputs": [],
   "source": [
    "d3 = data.get('/musicbrainz/songs')"
   ]
  },
  {
   "cell_type": "code",
   "execution_count": 43,
   "id": "4fdf7f3b",
   "metadata": {},
   "outputs": [],
   "source": [
    "df1 = pd.concat([d1,d2], axis=1)"
   ]
  },
  {
   "cell_type": "code",
   "execution_count": 44,
   "id": "3502108f",
   "metadata": {},
   "outputs": [
    {
     "data": {
      "text/html": [
       "<div>\n",
       "<style scoped>\n",
       "    .dataframe tbody tr th:only-of-type {\n",
       "        vertical-align: middle;\n",
       "    }\n",
       "\n",
       "    .dataframe tbody tr th {\n",
       "        vertical-align: top;\n",
       "    }\n",
       "\n",
       "    .dataframe thead th {\n",
       "        text-align: right;\n",
       "    }\n",
       "</style>\n",
       "<table border=\"1\" class=\"dataframe\">\n",
       "  <thead>\n",
       "    <tr style=\"text-align: right;\">\n",
       "      <th></th>\n",
       "      <th>analysis_sample_rate</th>\n",
       "      <th>audio_md5</th>\n",
       "      <th>danceability</th>\n",
       "      <th>duration</th>\n",
       "      <th>end_of_fade_in</th>\n",
       "      <th>energy</th>\n",
       "      <th>idx_bars_confidence</th>\n",
       "      <th>idx_bars_start</th>\n",
       "      <th>idx_beats_confidence</th>\n",
       "      <th>idx_beats_start</th>\n",
       "      <th>...</th>\n",
       "      <th>artist_playmeid</th>\n",
       "      <th>genre</th>\n",
       "      <th>idx_artist_terms</th>\n",
       "      <th>idx_similar_artists</th>\n",
       "      <th>release</th>\n",
       "      <th>release_7digitalid</th>\n",
       "      <th>song_hotttnesss</th>\n",
       "      <th>song_id</th>\n",
       "      <th>title</th>\n",
       "      <th>track_7digitalid</th>\n",
       "    </tr>\n",
       "  </thead>\n",
       "  <tbody>\n",
       "    <tr>\n",
       "      <th>0</th>\n",
       "      <td>22050</td>\n",
       "      <td>a222795e07cd65b7a530f1346f520649</td>\n",
       "      <td>0.0</td>\n",
       "      <td>218.93179</td>\n",
       "      <td>0.247</td>\n",
       "      <td>0.0</td>\n",
       "      <td>0</td>\n",
       "      <td>0</td>\n",
       "      <td>0</td>\n",
       "      <td>0</td>\n",
       "      <td>...</td>\n",
       "      <td>4479</td>\n",
       "      <td></td>\n",
       "      <td>0</td>\n",
       "      <td>0</td>\n",
       "      <td>Fear Itself</td>\n",
       "      <td>300848</td>\n",
       "      <td>0.60212</td>\n",
       "      <td>SOMZWCG12A8C13C480</td>\n",
       "      <td>I Didn't Mean To</td>\n",
       "      <td>3401791</td>\n",
       "    </tr>\n",
       "  </tbody>\n",
       "</table>\n",
       "<p>1 rows × 51 columns</p>\n",
       "</div>"
      ],
      "text/plain": [
       "   analysis_sample_rate                         audio_md5  danceability  \\\n",
       "0                 22050  a222795e07cd65b7a530f1346f520649           0.0   \n",
       "\n",
       "    duration  end_of_fade_in  energy  idx_bars_confidence  idx_bars_start  \\\n",
       "0  218.93179           0.247     0.0                    0               0   \n",
       "\n",
       "   idx_beats_confidence  idx_beats_start  ...  artist_playmeid  genre  \\\n",
       "0                     0                0  ...             4479          \n",
       "\n",
       "   idx_artist_terms  idx_similar_artists      release  release_7digitalid  \\\n",
       "0                 0                    0  Fear Itself              300848   \n",
       "\n",
       "   song_hotttnesss             song_id             title  track_7digitalid  \n",
       "0          0.60212  SOMZWCG12A8C13C480  I Didn't Mean To           3401791  \n",
       "\n",
       "[1 rows x 51 columns]"
      ]
     },
     "execution_count": 44,
     "metadata": {},
     "output_type": "execute_result"
    }
   ],
   "source": [
    "df1"
   ]
  },
  {
   "cell_type": "code",
   "execution_count": 45,
   "id": "1d7d0b69",
   "metadata": {},
   "outputs": [
    {
     "data": {
      "text/plain": [
       "Index(['analysis_sample_rate', 'audio_md5', 'danceability', 'duration',\n",
       "       'end_of_fade_in', 'energy', 'idx_bars_confidence', 'idx_bars_start',\n",
       "       'idx_beats_confidence', 'idx_beats_start', 'idx_sections_confidence',\n",
       "       'idx_sections_start', 'idx_segments_confidence',\n",
       "       'idx_segments_loudness_max', 'idx_segments_loudness_max_time',\n",
       "       'idx_segments_loudness_start', 'idx_segments_pitches',\n",
       "       'idx_segments_start', 'idx_segments_timbre', 'idx_tatums_confidence',\n",
       "       'idx_tatums_start', 'key', 'key_confidence', 'loudness', 'mode',\n",
       "       'mode_confidence', 'start_of_fade_out', 'tempo', 'time_signature',\n",
       "       'time_signature_confidence', 'track_id', 'analyzer_version',\n",
       "       'artist_7digitalid', 'artist_familiarity', 'artist_hotttnesss',\n",
       "       'artist_id', 'artist_latitude', 'artist_location', 'artist_longitude',\n",
       "       'artist_mbid', 'artist_name', 'artist_playmeid', 'genre',\n",
       "       'idx_artist_terms', 'idx_similar_artists', 'release',\n",
       "       'release_7digitalid', 'song_hotttnesss', 'song_id', 'title',\n",
       "       'track_7digitalid'],\n",
       "      dtype='object')"
      ]
     },
     "execution_count": 45,
     "metadata": {},
     "output_type": "execute_result"
    }
   ],
   "source": [
    "df1.columns"
   ]
  },
  {
   "cell_type": "code",
   "execution_count": null,
   "id": "b75896b4",
   "metadata": {},
   "outputs": [],
   "source": []
  }
 ],
 "metadata": {
  "kernelspec": {
   "display_name": "Python 3 (ipykernel)",
   "language": "python",
   "name": "python3"
  },
  "language_info": {
   "codemirror_mode": {
    "name": "ipython",
    "version": 3
   },
   "file_extension": ".py",
   "mimetype": "text/x-python",
   "name": "python",
   "nbconvert_exporter": "python",
   "pygments_lexer": "ipython3",
   "version": "3.9.7"
  }
 },
 "nbformat": 4,
 "nbformat_minor": 5
}
